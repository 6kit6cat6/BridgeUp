{
 "cells": [
  {
   "cell_type": "markdown",
   "metadata": {},
   "source": [
    "## Final Project"
   ]
  },
  {
   "cell_type": "code",
   "execution_count": 66,
   "metadata": {},
   "outputs": [],
   "source": [
    "#Import libraries\n",
    "import matplotlib.pyplot as plt\n",
    "import numpy as np\n",
    "import csv"
   ]
  },
  {
   "cell_type": "code",
   "execution_count": 67,
   "metadata": {},
   "outputs": [],
   "source": [
    "#Open data file\n",
    "csvFile = open(\"sea_temp_anom_Dec_2002.csv\", 'r') \n",
    "csvReader = csv.reader(csvFile, delimiter=',')\n",
    "data_lists = list(csvReader)"
   ]
  },
  {
   "cell_type": "code",
   "execution_count": 68,
   "metadata": {},
   "outputs": [
    {
     "name": "stdout",
     "output_type": "stream",
     "text": [
      "720\n"
     ]
    }
   ],
   "source": [
    "#Print the length of data list of just ONE ROW\n",
    "print(len(data_lists[0]))"
   ]
  },
  {
   "cell_type": "code",
   "execution_count": 69,
   "metadata": {},
   "outputs": [
    {
     "name": "stdout",
     "output_type": "stream",
     "text": [
      "360\n"
     ]
    }
   ],
   "source": [
    "#Print how many of rows there are\n",
    "print(len(data_lists))"
   ]
  },
  {
   "cell_type": "code",
   "execution_count": 70,
   "metadata": {},
   "outputs": [],
   "source": [
    "#Set both the width and the height of the data to variables\n",
    "width = len(data_lists[0])\n",
    "height = len(data_lists)"
   ]
  },
  {
   "cell_type": "code",
   "execution_count": 71,
   "metadata": {},
   "outputs": [],
   "source": [
    "#Create an empty grid to fill in with the right rgb values\n",
    "grid = np.empty([height, width, 3], dtype=np.uint8) "
   ]
  },
  {
   "cell_type": "code",
   "execution_count": 72,
   "metadata": {},
   "outputs": [],
   "source": [
    "all_values = [] # We will fill in this empty list with all the data values as we go\n",
    "\n",
    "for r, row in enumerate(data_lists):\n",
    "    for c, value in enumerate(row):\n",
    "        if float(value) < 99998:\n",
    "            all_values.append(float(value)) # This is where we fill in the list with all data values\n",
    "        if float(value) <= -4:\n",
    "            grid[r, c] = [0, 0, 255] #Fills in one list in the numpy array with the right rgb values\n",
    "        elif float(value) <= -3:\n",
    "            grid[r, c] = [0, 179, 255]\n",
    "        elif float(value) <= -2:\n",
    "            grid[r, c] = [0, 255, 251]\n",
    "        elif float(value) <= -1:\n",
    "            grid[r, c] = [0, 217, 108]\n",
    "        elif float(value) <= 0:\n",
    "            grid[r, c] = [0, 214, 50]\n",
    "        elif float(value) <= 1:\n",
    "            grid[r, c] = [205, 255, 56]\n",
    "        elif float(value) <= 2:\n",
    "            grid[r, c] = [227, 211, 39]\n",
    "        elif float(value) <= 3:\n",
    "            grid[r, c] = [255, 106, 0]\n",
    "        elif float(value) <= 4:\n",
    "            grid[r, c] = [255, 0, 0]\n",
    "        else:\n",
    "            grid[r, c] = [0, 0, 0]"
   ]
  },
  {
   "cell_type": "code",
   "execution_count": 73,
   "metadata": {},
   "outputs": [
    {
     "name": "stdout",
     "output_type": "stream",
     "text": [
      "5.0\n",
      "-5.0\n"
     ]
    }
   ],
   "source": [
    "print(max(all_values))\n",
    "print(min(all_values))"
   ]
  },
  {
   "cell_type": "code",
   "execution_count": 74,
   "metadata": {},
   "outputs": [
    {
     "name": "stderr",
     "output_type": "stream",
     "text": [
      "'c' argument looks like a single numeric RGB or RGBA sequence, which should be avoided as value-mapping will have precedence in case its length matches with 'x' & 'y'.  Please use a 2-D array with a single row if you really want to specify the same RGB or RGBA value for all points.\n",
      "'c' argument looks like a single numeric RGB or RGBA sequence, which should be avoided as value-mapping will have precedence in case its length matches with 'x' & 'y'.  Please use a 2-D array with a single row if you really want to specify the same RGB or RGBA value for all points.\n",
      "'c' argument looks like a single numeric RGB or RGBA sequence, which should be avoided as value-mapping will have precedence in case its length matches with 'x' & 'y'.  Please use a 2-D array with a single row if you really want to specify the same RGB or RGBA value for all points.\n",
      "'c' argument looks like a single numeric RGB or RGBA sequence, which should be avoided as value-mapping will have precedence in case its length matches with 'x' & 'y'.  Please use a 2-D array with a single row if you really want to specify the same RGB or RGBA value for all points.\n"
     ]
    },
    {
     "data": {
      "image/png": "[encoded data removed]",
      "text/plain": [
       "<Figure size 432x288 with 1 Axes>"
      ]
     },
     "metadata": {
      "needs_background": "light"
     },
     "output_type": "display_data"
    }
   ],
   "source": [
    "plt.title(\"Global sea temperature in Celsius (2002)\")\n",
    "plt.scatter([],[],c = (255/255, 0/255, 0/255), label = \"5 C\")\n",
    "plt.scatter([],[], c = (205/255, 255/255, 56/255), label = \"1 C\")\n",
    "plt.scatter([],[], c = (0/255, 214/255, 50/255), label = \"0\")\n",
    "plt.scatter([],[], c = (0/255, 0/255, 255/255), label = \"-5 C\")\n",
    "plt.imshow(grid)\n",
    "plt.axis('off')\n",
    "plt.legend(bbox_to_anchor=[1.19,1.04])\n",
    "plt.savefig(\"Land_temperature_2002.png\",dpi = 1000)\n",
    "plt.show()"
   ]
  },
  {
   "cell_type": "code",
   "execution_count": null,
   "metadata": {},
   "outputs": [],
   "source": []
  },
  {
   "cell_type": "code",
   "execution_count": null,
   "metadata": {},
   "outputs": [],
   "source": []
  }
 ],
 "metadata": {
  "kernelspec": {
   "display_name": "Python 3",
   "language": "python",
   "name": "python3"
  },
  "language_info": {
   "codemirror_mode": {
    "name": "ipython",
    "version": 3
   },
   "file_extension": ".py",
   "mimetype": "text/x-python",
   "name": "python",
   "nbconvert_exporter": "python",
   "pygments_lexer": "ipython3",
   "version": "3.7.3"
  }
 },
 "nbformat": 4,
 "nbformat_minor": 2
}
