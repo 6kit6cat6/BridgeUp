{
 "cells": [
  {
   "cell_type": "code",
   "execution_count": 31,
   "metadata": {},
   "outputs": [],
   "source": [
    "import pandas as pd\n",
    "import numpy as np"
   ]
  },
  {
   "cell_type": "code",
   "execution_count": 32,
   "metadata": {},
   "outputs": [],
   "source": [
    "bd = pd.read_csv(\"bird_dino_data.csv\")"
   ]
  },
  {
   "cell_type": "code",
   "execution_count": 33,
   "metadata": {},
   "outputs": [],
   "source": [
    "#bd.head()"
   ]
  },
  {
   "cell_type": "code",
   "execution_count": 69,
   "metadata": {},
   "outputs": [],
   "source": [
    "#Add \"Whole Brain\" column to bd\n",
    "bd[\"Whole Brain\"] = bd[\"Olfactory bulbs (cm3)\"] + bd[\"Cerebrum (cm3)\"] + bd[\"Optic Lobes (cm3)\"] + bd[\"Cerebellum (cm3)\"]"
   ]
  },
  {
   "cell_type": "code",
   "execution_count": 70,
   "metadata": {},
   "outputs": [],
   "source": [
    "#bd.head()"
   ]
  },
  {
   "cell_type": "code",
   "execution_count": 71,
   "metadata": {},
   "outputs": [],
   "source": [
    "#Whole brain to body ratio\n",
    "body_r = bd[\"Whole Brain\"] / bd[\"Body Mass (kg)\"] / 1000\n",
    "bd[\"Brain to Body Ratio\"] = body_r"
   ]
  },
  {
   "cell_type": "code",
   "execution_count": 72,
   "metadata": {},
   "outputs": [],
   "source": [
    "#bd.head()"
   ]
  },
  {
   "cell_type": "code",
   "execution_count": 73,
   "metadata": {},
   "outputs": [],
   "source": [
    "#Cerebrum to whole brain ratio\n",
    "cere_r = bd[\"Cerebrum (cm3)\"] / bd[\"Whole Brain\"]\n",
    "bd[\"Cerebrum to Whole Brain Ratio\"] = cere_r"
   ]
  },
  {
   "cell_type": "code",
   "execution_count": 74,
   "metadata": {},
   "outputs": [
    {
     "data": {
      "text/html": [
       "<div>\n",
       "<style scoped>\n",
       "    .dataframe tbody tr th:only-of-type {\n",
       "        vertical-align: middle;\n",
       "    }\n",
       "\n",
       "    .dataframe tbody tr th {\n",
       "        vertical-align: top;\n",
       "    }\n",
       "\n",
       "    .dataframe thead th {\n",
       "        text-align: right;\n",
       "    }\n",
       "</style>\n",
       "<table border=\"1\" class=\"dataframe\">\n",
       "  <thead>\n",
       "    <tr style=\"text-align: right;\">\n",
       "      <th></th>\n",
       "      <th>Species ID</th>\n",
       "      <th>Bird vs Dino</th>\n",
       "      <th>Body Mass (kg)</th>\n",
       "      <th>Olfactory bulbs (cm3)</th>\n",
       "      <th>Cerebrum (cm3)</th>\n",
       "      <th>Optic Lobes (cm3)</th>\n",
       "      <th>Cerebellum (cm3)</th>\n",
       "      <th>Brain Stem (cm3)</th>\n",
       "      <th>Whole Brain</th>\n",
       "      <th>Brain to Body Ratio</th>\n",
       "      <th>Cerebrum to Whole Brain Ratio</th>\n",
       "    </tr>\n",
       "  </thead>\n",
       "  <tbody>\n",
       "    <tr>\n",
       "      <th>0</th>\n",
       "      <td>1</td>\n",
       "      <td>B</td>\n",
       "      <td>0.02</td>\n",
       "      <td>0.009</td>\n",
       "      <td>1.53</td>\n",
       "      <td>0.20</td>\n",
       "      <td>0.16</td>\n",
       "      <td>0.06</td>\n",
       "      <td>1.899</td>\n",
       "      <td>0.094950</td>\n",
       "      <td>0.805687</td>\n",
       "    </tr>\n",
       "    <tr>\n",
       "      <th>1</th>\n",
       "      <td>2</td>\n",
       "      <td>B</td>\n",
       "      <td>1.26</td>\n",
       "      <td>0.006</td>\n",
       "      <td>16.81</td>\n",
       "      <td>2.84</td>\n",
       "      <td>1.70</td>\n",
       "      <td>0.68</td>\n",
       "      <td>21.356</td>\n",
       "      <td>0.016949</td>\n",
       "      <td>0.787132</td>\n",
       "    </tr>\n",
       "    <tr>\n",
       "      <th>2</th>\n",
       "      <td>3</td>\n",
       "      <td>B</td>\n",
       "      <td>2.18</td>\n",
       "      <td>0.026</td>\n",
       "      <td>11.08</td>\n",
       "      <td>1.95</td>\n",
       "      <td>0.89</td>\n",
       "      <td>1.15</td>\n",
       "      <td>13.946</td>\n",
       "      <td>0.006397</td>\n",
       "      <td>0.794493</td>\n",
       "    </tr>\n",
       "    <tr>\n",
       "      <th>3</th>\n",
       "      <td>4</td>\n",
       "      <td>D</td>\n",
       "      <td>0.25</td>\n",
       "      <td>0.050</td>\n",
       "      <td>0.41</td>\n",
       "      <td>0.16</td>\n",
       "      <td>0.09</td>\n",
       "      <td>0.12</td>\n",
       "      <td>0.710</td>\n",
       "      <td>0.002840</td>\n",
       "      <td>0.577465</td>\n",
       "    </tr>\n",
       "    <tr>\n",
       "      <th>4</th>\n",
       "      <td>5</td>\n",
       "      <td>B</td>\n",
       "      <td>0.01</td>\n",
       "      <td>0.003</td>\n",
       "      <td>1.57</td>\n",
       "      <td>0.20</td>\n",
       "      <td>0.34</td>\n",
       "      <td>0.08</td>\n",
       "      <td>2.113</td>\n",
       "      <td>0.211300</td>\n",
       "      <td>0.743019</td>\n",
       "    </tr>\n",
       "  </tbody>\n",
       "</table>\n",
       "</div>"
      ],
      "text/plain": [
       "   Species ID Bird vs Dino  Body Mass (kg)  Olfactory bulbs (cm3)  \\\n",
       "0           1            B            0.02                  0.009   \n",
       "1           2            B            1.26                  0.006   \n",
       "2           3            B            2.18                  0.026   \n",
       "3           4            D            0.25                  0.050   \n",
       "4           5            B            0.01                  0.003   \n",
       "\n",
       "   Cerebrum (cm3)  Optic Lobes (cm3)  Cerebellum (cm3)  Brain Stem (cm3)  \\\n",
       "0            1.53               0.20              0.16              0.06   \n",
       "1           16.81               2.84              1.70              0.68   \n",
       "2           11.08               1.95              0.89              1.15   \n",
       "3            0.41               0.16              0.09              0.12   \n",
       "4            1.57               0.20              0.34              0.08   \n",
       "\n",
       "   Whole Brain  Brain to Body Ratio  Cerebrum to Whole Brain Ratio  \n",
       "0        1.899             0.094950                       0.805687  \n",
       "1       21.356             0.016949                       0.787132  \n",
       "2       13.946             0.006397                       0.794493  \n",
       "3        0.710             0.002840                       0.577465  \n",
       "4        2.113             0.211300                       0.743019  "
      ]
     },
     "execution_count": 74,
     "metadata": {},
     "output_type": "execute_result"
    }
   ],
   "source": [
    "bd.head()"
   ]
  },
  {
   "cell_type": "code",
   "execution_count": 75,
   "metadata": {},
   "outputs": [
    {
     "data": {
      "text/html": [
       "<div>\n",
       "<style scoped>\n",
       "    .dataframe tbody tr th:only-of-type {\n",
       "        vertical-align: middle;\n",
       "    }\n",
       "\n",
       "    .dataframe tbody tr th {\n",
       "        vertical-align: top;\n",
       "    }\n",
       "\n",
       "    .dataframe thead th {\n",
       "        text-align: right;\n",
       "    }\n",
       "</style>\n",
       "<table border=\"1\" class=\"dataframe\">\n",
       "  <thead>\n",
       "    <tr style=\"text-align: right;\">\n",
       "      <th></th>\n",
       "      <th>Species ID</th>\n",
       "      <th>Bird vs Dino</th>\n",
       "      <th>Body Mass (kg)</th>\n",
       "      <th>Olfactory bulbs (cm3)</th>\n",
       "      <th>Cerebrum (cm3)</th>\n",
       "      <th>Optic Lobes (cm3)</th>\n",
       "      <th>Cerebellum (cm3)</th>\n",
       "      <th>Brain Stem (cm3)</th>\n",
       "      <th>Whole Brain</th>\n",
       "      <th>Brain to Body Ratio</th>\n",
       "      <th>Cerebrum to Whole Brain Ratio</th>\n",
       "    </tr>\n",
       "  </thead>\n",
       "  <tbody>\n",
       "    <tr>\n",
       "      <th>0</th>\n",
       "      <td>1</td>\n",
       "      <td>B</td>\n",
       "      <td>0.02</td>\n",
       "      <td>0.009</td>\n",
       "      <td>1.53</td>\n",
       "      <td>0.20</td>\n",
       "      <td>0.16</td>\n",
       "      <td>0.06</td>\n",
       "      <td>1.899</td>\n",
       "      <td>0.094950</td>\n",
       "      <td>0.805687</td>\n",
       "    </tr>\n",
       "    <tr>\n",
       "      <th>1</th>\n",
       "      <td>2</td>\n",
       "      <td>B</td>\n",
       "      <td>1.26</td>\n",
       "      <td>0.006</td>\n",
       "      <td>16.81</td>\n",
       "      <td>2.84</td>\n",
       "      <td>1.70</td>\n",
       "      <td>0.68</td>\n",
       "      <td>21.356</td>\n",
       "      <td>0.016949</td>\n",
       "      <td>0.787132</td>\n",
       "    </tr>\n",
       "    <tr>\n",
       "      <th>2</th>\n",
       "      <td>3</td>\n",
       "      <td>B</td>\n",
       "      <td>2.18</td>\n",
       "      <td>0.026</td>\n",
       "      <td>11.08</td>\n",
       "      <td>1.95</td>\n",
       "      <td>0.89</td>\n",
       "      <td>1.15</td>\n",
       "      <td>13.946</td>\n",
       "      <td>0.006397</td>\n",
       "      <td>0.794493</td>\n",
       "    </tr>\n",
       "    <tr>\n",
       "      <th>4</th>\n",
       "      <td>5</td>\n",
       "      <td>B</td>\n",
       "      <td>0.01</td>\n",
       "      <td>0.003</td>\n",
       "      <td>1.57</td>\n",
       "      <td>0.20</td>\n",
       "      <td>0.34</td>\n",
       "      <td>0.08</td>\n",
       "      <td>2.113</td>\n",
       "      <td>0.211300</td>\n",
       "      <td>0.743019</td>\n",
       "    </tr>\n",
       "    <tr>\n",
       "      <th>7</th>\n",
       "      <td>8</td>\n",
       "      <td>B</td>\n",
       "      <td>0.90</td>\n",
       "      <td>0.234</td>\n",
       "      <td>5.95</td>\n",
       "      <td>0.99</td>\n",
       "      <td>0.96</td>\n",
       "      <td>0.55</td>\n",
       "      <td>8.134</td>\n",
       "      <td>0.009038</td>\n",
       "      <td>0.731497</td>\n",
       "    </tr>\n",
       "  </tbody>\n",
       "</table>\n",
       "</div>"
      ],
      "text/plain": [
       "   Species ID Bird vs Dino  Body Mass (kg)  Olfactory bulbs (cm3)  \\\n",
       "0           1            B            0.02                  0.009   \n",
       "1           2            B            1.26                  0.006   \n",
       "2           3            B            2.18                  0.026   \n",
       "4           5            B            0.01                  0.003   \n",
       "7           8            B            0.90                  0.234   \n",
       "\n",
       "   Cerebrum (cm3)  Optic Lobes (cm3)  Cerebellum (cm3)  Brain Stem (cm3)  \\\n",
       "0            1.53               0.20              0.16              0.06   \n",
       "1           16.81               2.84              1.70              0.68   \n",
       "2           11.08               1.95              0.89              1.15   \n",
       "4            1.57               0.20              0.34              0.08   \n",
       "7            5.95               0.99              0.96              0.55   \n",
       "\n",
       "   Whole Brain  Brain to Body Ratio  Cerebrum to Whole Brain Ratio  \n",
       "0        1.899             0.094950                       0.805687  \n",
       "1       21.356             0.016949                       0.787132  \n",
       "2       13.946             0.006397                       0.794493  \n",
       "4        2.113             0.211300                       0.743019  \n",
       "7        8.134             0.009038                       0.731497  "
      ]
     },
     "execution_count": 75,
     "metadata": {},
     "output_type": "execute_result"
    }
   ],
   "source": [
    "#Calculate average of each bird's and Dino's brains\n",
    "B = bd.loc[bd[\"Bird vs Dino\"] == \"B\"]\n",
    "D = bd.loc[bd[\"Bird vs Dino\"] == \"D\"]\n",
    "B.head()"
   ]
  },
  {
   "cell_type": "code",
   "execution_count": 76,
   "metadata": {},
   "outputs": [
    {
     "data": {
      "text/html": [
       "<div>\n",
       "<style scoped>\n",
       "    .dataframe tbody tr th:only-of-type {\n",
       "        vertical-align: middle;\n",
       "    }\n",
       "\n",
       "    .dataframe tbody tr th {\n",
       "        vertical-align: top;\n",
       "    }\n",
       "\n",
       "    .dataframe thead th {\n",
       "        text-align: right;\n",
       "    }\n",
       "</style>\n",
       "<table border=\"1\" class=\"dataframe\">\n",
       "  <thead>\n",
       "    <tr style=\"text-align: right;\">\n",
       "      <th></th>\n",
       "      <th>Species ID</th>\n",
       "      <th>Bird vs Dino</th>\n",
       "      <th>Body Mass (kg)</th>\n",
       "      <th>Olfactory bulbs (cm3)</th>\n",
       "      <th>Cerebrum (cm3)</th>\n",
       "      <th>Optic Lobes (cm3)</th>\n",
       "      <th>Cerebellum (cm3)</th>\n",
       "      <th>Brain Stem (cm3)</th>\n",
       "      <th>Whole Brain</th>\n",
       "      <th>Brain to Body Ratio</th>\n",
       "      <th>Cerebrum to Whole Brain Ratio</th>\n",
       "    </tr>\n",
       "  </thead>\n",
       "  <tbody>\n",
       "    <tr>\n",
       "      <th>3</th>\n",
       "      <td>4</td>\n",
       "      <td>D</td>\n",
       "      <td>0.25</td>\n",
       "      <td>0.050</td>\n",
       "      <td>0.41</td>\n",
       "      <td>0.16</td>\n",
       "      <td>0.09</td>\n",
       "      <td>0.12</td>\n",
       "      <td>0.710</td>\n",
       "      <td>0.002840</td>\n",
       "      <td>0.577465</td>\n",
       "    </tr>\n",
       "    <tr>\n",
       "      <th>5</th>\n",
       "      <td>6</td>\n",
       "      <td>D</td>\n",
       "      <td>85.96</td>\n",
       "      <td>0.569</td>\n",
       "      <td>9.52</td>\n",
       "      <td>3.60</td>\n",
       "      <td>5.16</td>\n",
       "      <td>3.78</td>\n",
       "      <td>18.849</td>\n",
       "      <td>0.000219</td>\n",
       "      <td>0.505067</td>\n",
       "    </tr>\n",
       "    <tr>\n",
       "      <th>6</th>\n",
       "      <td>7</td>\n",
       "      <td>D</td>\n",
       "      <td>0.50</td>\n",
       "      <td>0.077</td>\n",
       "      <td>0.60</td>\n",
       "      <td>0.36</td>\n",
       "      <td>0.24</td>\n",
       "      <td>0.17</td>\n",
       "      <td>1.277</td>\n",
       "      <td>0.002554</td>\n",
       "      <td>0.469851</td>\n",
       "    </tr>\n",
       "    <tr>\n",
       "      <th>9</th>\n",
       "      <td>10</td>\n",
       "      <td>D</td>\n",
       "      <td>12.61</td>\n",
       "      <td>0.028</td>\n",
       "      <td>3.71</td>\n",
       "      <td>1.31</td>\n",
       "      <td>1.60</td>\n",
       "      <td>2.17</td>\n",
       "      <td>6.648</td>\n",
       "      <td>0.000527</td>\n",
       "      <td>0.558063</td>\n",
       "    </tr>\n",
       "    <tr>\n",
       "      <th>14</th>\n",
       "      <td>15</td>\n",
       "      <td>D</td>\n",
       "      <td>49.30</td>\n",
       "      <td>1.080</td>\n",
       "      <td>14.81</td>\n",
       "      <td>4.75</td>\n",
       "      <td>3.16</td>\n",
       "      <td>2.35</td>\n",
       "      <td>23.800</td>\n",
       "      <td>0.000483</td>\n",
       "      <td>0.622269</td>\n",
       "    </tr>\n",
       "  </tbody>\n",
       "</table>\n",
       "</div>"
      ],
      "text/plain": [
       "    Species ID Bird vs Dino  Body Mass (kg)  Olfactory bulbs (cm3)  \\\n",
       "3            4            D            0.25                  0.050   \n",
       "5            6            D           85.96                  0.569   \n",
       "6            7            D            0.50                  0.077   \n",
       "9           10            D           12.61                  0.028   \n",
       "14          15            D           49.30                  1.080   \n",
       "\n",
       "    Cerebrum (cm3)  Optic Lobes (cm3)  Cerebellum (cm3)  Brain Stem (cm3)  \\\n",
       "3             0.41               0.16              0.09              0.12   \n",
       "5             9.52               3.60              5.16              3.78   \n",
       "6             0.60               0.36              0.24              0.17   \n",
       "9             3.71               1.31              1.60              2.17   \n",
       "14           14.81               4.75              3.16              2.35   \n",
       "\n",
       "    Whole Brain  Brain to Body Ratio  Cerebrum to Whole Brain Ratio  \n",
       "3         0.710             0.002840                       0.577465  \n",
       "5        18.849             0.000219                       0.505067  \n",
       "6         1.277             0.002554                       0.469851  \n",
       "9         6.648             0.000527                       0.558063  \n",
       "14       23.800             0.000483                       0.622269  "
      ]
     },
     "execution_count": 76,
     "metadata": {},
     "output_type": "execute_result"
    }
   ],
   "source": [
    "D.head()"
   ]
  },
  {
   "cell_type": "code",
   "execution_count": 77,
   "metadata": {},
   "outputs": [],
   "source": [
    "#All these are in cm3"
   ]
  },
  {
   "cell_type": "code",
   "execution_count": 78,
   "metadata": {},
   "outputs": [],
   "source": [
    "BBB = B[\"Brain to Body Ratio\"].mean()"
   ]
  },
  {
   "cell_type": "code",
   "execution_count": 79,
   "metadata": {},
   "outputs": [],
   "source": [
    "BCB = B[\"Cerebrum to Whole Brain Ratio\"].mean()"
   ]
  },
  {
   "cell_type": "code",
   "execution_count": 80,
   "metadata": {},
   "outputs": [],
   "source": [
    "DBB = D[\"Brain to Body Ratio\"].mean()"
   ]
  },
  {
   "cell_type": "code",
   "execution_count": 81,
   "metadata": {},
   "outputs": [],
   "source": [
    "DCB = D[\"Cerebrum to Whole Brain Ratio\"].mean()"
   ]
  },
  {
   "cell_type": "code",
   "execution_count": 82,
   "metadata": {},
   "outputs": [
    {
     "name": "stdout",
     "output_type": "stream",
     "text": [
      "0.045170238698633944 0.7094430277327214 0.0014002983908859297 0.5479339483969496\n"
     ]
    }
   ],
   "source": [
    "print(BBB, BCB, DBB, DCB)"
   ]
  },
  {
   "cell_type": "code",
   "execution_count": 83,
   "metadata": {},
   "outputs": [],
   "source": [
    "#Calculate ratios for your brain"
   ]
  },
  {
   "cell_type": "code",
   "execution_count": 84,
   "metadata": {},
   "outputs": [],
   "source": [
    "#This function uses femur length in mm\n",
    "#Output is in kg\n",
    "def body_m(dtype, femur):\n",
    "    if dtype == \"ornithischian\":\n",
    "        return 10**(3.0587*np.log10(femur)-2.7042)/1000\n",
    "    elif dtype == \"sauropod\":\n",
    "        return 10**(2.3459*np.log10(femur)-0.2935)/1000\n",
    "    elif dtype == \"theropod\":\n",
    "        return 10**(3.1854*np.log10(femur)-3.184)/1000"
   ]
  },
  {
   "cell_type": "code",
   "execution_count": 85,
   "metadata": {},
   "outputs": [
    {
     "data": {
      "text/plain": [
       "10.660985224533874"
      ]
     },
     "execution_count": 85,
     "metadata": {},
     "output_type": "execute_result"
    }
   ],
   "source": [
    "XBM = body_m(\"theropod\", 21)\n",
    "XBM_g = XBM * 1000\n",
    "XBM_g"
   ]
  },
  {
   "cell_type": "code",
   "execution_count": 111,
   "metadata": {},
   "outputs": [
    {
     "name": "stdout",
     "output_type": "stream",
     "text": [
      "4.5\n"
     ]
    }
   ],
   "source": [
    "olf = .3\n",
    "brum = 2.1\n",
    "opt = 1.5\n",
    "bell = .6\n",
    "vol = 2.2\n",
    "\n",
    "whole = (olf+brum+opt+bell)\n",
    "print(whole)"
   ]
  },
  {
   "cell_type": "code",
   "execution_count": 112,
   "metadata": {},
   "outputs": [
    {
     "name": "stdout",
     "output_type": "stream",
     "text": [
      "0.42209982522480716\n"
     ]
    }
   ],
   "source": [
    "#Brain to body\n",
    "XBB = whole / XBM_g\n",
    "print(XBB)"
   ]
  },
  {
   "cell_type": "code",
   "execution_count": 113,
   "metadata": {},
   "outputs": [
    {
     "name": "stdout",
     "output_type": "stream",
     "text": [
      "0.4666666666666667\n"
     ]
    }
   ],
   "source": [
    "#Cerebrum to brain\n",
    "XCB = brum / whole\n",
    "print(XCB)"
   ]
  },
  {
   "cell_type": "code",
   "execution_count": 114,
   "metadata": {},
   "outputs": [],
   "source": [
    "#Compare your brain to averages"
   ]
  },
  {
   "cell_type": "code",
   "execution_count": 115,
   "metadata": {},
   "outputs": [],
   "source": [
    "def compare(fl, bv, cw, bw):\n",
    "    mass = body_m(\"theropod\", fl) #body mass\n",
    "    B2B = bw / mass * 1000 #brain to body\n",
    "    C2B = cw / bw #cerebrum to brain\n",
    "    \n",
    "    BBB = B[\"Brain to Body Ratio\"].mean()\n",
    "    BCB = B[\"Cerebrum to Whole Brain Ratio\"].mean()\n",
    "    DBB = D[\"Brain to Body Ratio\"].mean()\n",
    "    DCB = D[\"Cerebrum to Whole Brain Ratio\"].mean()\n",
    "\n",
    "    if abs(B2B - BBB) < abs(B2B - DBB):\n",
    "        B2B_ans = \"Bird\"\n",
    "    elif abs(B2B - BBB) > abs(B2B - DBB):\n",
    "        B2B_ans = \"Dino\"\n",
    "        \n",
    "    if abs(C2B - BCB) < abs(C2B - DCB):\n",
    "        C2B_ans = \"Bird\"\n",
    "    elif abs(C2B - BCB) > abs(C2B - DCB):\n",
    "        C2B_ans =\"Dino\"\n",
    "    return [B2B_ans, C2B_ans]"
   ]
  },
  {
   "cell_type": "code",
   "execution_count": 116,
   "metadata": {},
   "outputs": [
    {
     "data": {
      "text/plain": [
       "['Bird', 'Dino']"
      ]
     },
     "execution_count": 116,
     "metadata": {},
     "output_type": "execute_result"
    }
   ],
   "source": [
    "compare(2.1, 2.2, 2.1, 4.5)"
   ]
  },
  {
   "cell_type": "code",
   "execution_count": 117,
   "metadata": {},
   "outputs": [
    {
     "name": "stdout",
     "output_type": "stream",
     "text": [
      "Bird\n"
     ]
    }
   ],
   "source": [
    "if abs(XBB - BBB) < abs(XBB - DBB):\n",
    "    print(\"Bird\")\n",
    "elif abs(XBB - BBB) > abs(XBB - DBB):\n",
    "    print(\"Dino\")"
   ]
  },
  {
   "cell_type": "code",
   "execution_count": 118,
   "metadata": {},
   "outputs": [
    {
     "name": "stdout",
     "output_type": "stream",
     "text": [
      "Dino\n"
     ]
    }
   ],
   "source": [
    "if abs(XCB - BCB) < abs(XCB - DCB):\n",
    "    print(\"Bird\")\n",
    "elif abs(XCB - BCB) > abs(XCB - DCB):\n",
    "    print(\"Dino\")"
   ]
  },
  {
   "cell_type": "markdown",
   "metadata": {},
   "source": [
    " ## Graphing"
   ]
  },
  {
   "cell_type": "code",
   "execution_count": 119,
   "metadata": {},
   "outputs": [],
   "source": [
    "import matplotlib.pyplot as plt"
   ]
  },
  {
   "cell_type": "code",
   "execution_count": 123,
   "metadata": {},
   "outputs": [
    {
     "data": {
      "image/png": "[encoded data removed]",
      "text/plain": [
       "<Figure size 432x288 with 1 Axes>"
      ]
     },
     "metadata": {
      "needs_background": "light"
     },
     "output_type": "display_data"
    }
   ],
   "source": [
    "plt.scatter(B[\"Body Mass (kg)\"], B[\"Whole Brain\"], color = \"blue\", label = \"Bird\")\n",
    "plt.scatter(D[\"Body Mass (kg)\"], D[\"Whole Brain\"], color = \"green\", label = \"Dino\")\n",
    "plt.scatter(XBM, whole, color = \"red\", label = \"X\")\n",
    "plt.title(\"Melanerpes aurifrons - Brain to Body Ratio\")\n",
    "plt.xlabel(\"Body Mass (kg)\")\n",
    "plt.ylabel(\"Whole Brain (cm3)\")\n",
    "plt.legend()\n",
    "plt.show()"
   ]
  },
  {
   "cell_type": "code",
   "execution_count": 124,
   "metadata": {},
   "outputs": [
    {
     "data": {
      "image/png": "[encoded data removed]",
      "text/plain": [
       "<Figure size 432x288 with 1 Axes>"
      ]
     },
     "metadata": {
      "needs_background": "light"
     },
     "output_type": "display_data"
    }
   ],
   "source": [
    "plt.scatter(B[\"Whole Brain\"], B[\"Cerebrum (cm3)\"], color = \"blue\", label = \"Bird\")\n",
    "plt.scatter(D[\"Whole Brain\"], D[\"Cerebrum (cm3)\"], color = \"green\", label = \"Dino\")\n",
    "plt.scatter(whole, brum, color = \"red\", label = \"X\")\n",
    "plt.title(\"Melanerpes aurifrons - Cerebrum to Whole Brain Ratio\")\n",
    "plt.xlabel(\"Whole Brain (cm3)\")\n",
    "plt.ylabel(\"Cerebrum (cm3)\")\n",
    "plt.legend()\n",
    "plt.show()"
   ]
  },
  {
   "cell_type": "code",
   "execution_count": 125,
   "metadata": {},
   "outputs": [
    {
     "data": {
      "image/png": "[encoded data removed]",
      "text/plain": [
       "<Figure size 432x288 with 1 Axes>"
      ]
     },
     "metadata": {
      "needs_background": "light"
     },
     "output_type": "display_data"
    }
   ],
   "source": [
    "plt.scatter(B[\"Cerebrum (cm3)\"]/ B[\"Whole Brain\"], B[\"Whole Brain\"]/ B[\"Body Mass (kg)\"], color = \"blue\", label = \"Bird\")\n",
    "plt.scatter(D[\"Cerebrum (cm3)\"]/ D[\"Whole Brain\"], D[\"Whole Brain\"]/ D[\"Body Mass (kg)\"], color = \"green\", label = \"Dino\")\n",
    "plt.scatter(XCB, XBB, color = \"red\", label = \"X\")\n",
    "plt.title(\"Melanerpes aurifrons - Brain/Body to Cerebrum/Whole Brain Ratio\")\n",
    "plt.xlabel(\"Cerebrum/Whole Brain\")\n",
    "plt.ylabel(\"Brain/Body\")\n",
    "plt.legend()\n",
    "plt.show()"
   ]
  },
  {
   "cell_type": "code",
   "execution_count": null,
   "metadata": {},
   "outputs": [],
   "source": []
  },
  {
   "cell_type": "code",
   "execution_count": null,
   "metadata": {},
   "outputs": [],
   "source": []
  },
  {
   "cell_type": "code",
   "execution_count": null,
   "metadata": {},
   "outputs": [],
   "source": []
  }
 ],
 "metadata": {
  "kernelspec": {
   "display_name": "Python 3",
   "language": "python",
   "name": "python3"
  },
  "language_info": {
   "codemirror_mode": {
    "name": "ipython",
    "version": 3
   },
   "file_extension": ".py",
   "mimetype": "text/x-python",
   "name": "python",
   "nbconvert_exporter": "python",
   "pygments_lexer": "ipython3",
   "version": "3.7.3"
  }
 },
 "nbformat": 4,
 "nbformat_minor": 2
}
