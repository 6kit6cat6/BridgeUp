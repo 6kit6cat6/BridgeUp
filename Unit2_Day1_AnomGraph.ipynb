{
 "cells": [
  {
   "cell_type": "markdown",
   "metadata": {},
   "source": [
    "# Make your own temperature anomaly data visualization!\n",
    "\n",
    "In this notebook you'll use pandas to read in a CSV file, create a dataframe, and make a bar chart that shows how the Earth's temperature anomalies have changed over time. \n",
    "\n",
    "**Reminder: To run the code in a Jupyter notebook cell, click inside the cell and press \"shift\" and \"return\" on your keyboard at the same time.**"
   ]
  },
  {
   "cell_type": "markdown",
   "metadata": {},
   "source": [
    "First, we need to import pandas as pd and matplotlib.pyplot as plt:"
   ]
  },
  {
   "cell_type": "code",
   "execution_count": 8,
   "metadata": {},
   "outputs": [],
   "source": [
    "import pandas as pd\n",
    "import matplotlib.pyplot as plt"
   ]
  },
  {
   "cell_type": "markdown",
   "metadata": {},
   "source": [
    "Next, we're going to create a data frame. It's convention to assign the dataframe to a variable called df. \n",
    "(However, if you create more than one data frame, you need to use a different variable name)\n",
    "\n",
    "We're going to use the pd.read_csv() function to open up our temperature anomaly data file."
   ]
  },
  {
   "cell_type": "code",
   "execution_count": 9,
   "metadata": {},
   "outputs": [],
   "source": [
    "df = pd.read_csv(\"Annual_Temp_Anomalies.csv\")"
   ]
  },
  {
   "cell_type": "markdown",
   "metadata": {},
   "source": [
    "We can look at the first 5 lines of our data frame by using the .head() method. <br>\n",
    "Because it is a method, you need to put the variable name of the data frame **(not pd)** in front of the period."
   ]
  },
  {
   "cell_type": "code",
   "execution_count": 10,
   "metadata": {},
   "outputs": [
    {
     "data": {
      "text/html": [
       "<div>\n",
       "<style scoped>\n",
       "    .dataframe tbody tr th:only-of-type {\n",
       "        vertical-align: middle;\n",
       "    }\n",
       "\n",
       "    .dataframe tbody tr th {\n",
       "        vertical-align: top;\n",
       "    }\n",
       "\n",
       "    .dataframe thead th {\n",
       "        text-align: right;\n",
       "    }\n",
       "</style>\n",
       "<table border=\"1\" class=\"dataframe\">\n",
       "  <thead>\n",
       "    <tr style=\"text-align: right;\">\n",
       "      <th></th>\n",
       "      <th>Year</th>\n",
       "      <th>Temp Anomaly (C)</th>\n",
       "    </tr>\n",
       "  </thead>\n",
       "  <tbody>\n",
       "    <tr>\n",
       "      <th>0</th>\n",
       "      <td>1880</td>\n",
       "      <td>-0.116</td>\n",
       "    </tr>\n",
       "    <tr>\n",
       "      <th>1</th>\n",
       "      <td>1881</td>\n",
       "      <td>-0.064</td>\n",
       "    </tr>\n",
       "    <tr>\n",
       "      <th>2</th>\n",
       "      <td>1882</td>\n",
       "      <td>-0.069</td>\n",
       "    </tr>\n",
       "    <tr>\n",
       "      <th>3</th>\n",
       "      <td>1883</td>\n",
       "      <td>-0.145</td>\n",
       "    </tr>\n",
       "    <tr>\n",
       "      <th>4</th>\n",
       "      <td>1884</td>\n",
       "      <td>-0.205</td>\n",
       "    </tr>\n",
       "  </tbody>\n",
       "</table>\n",
       "</div>"
      ],
      "text/plain": [
       "   Year  Temp Anomaly (C)\n",
       "0  1880            -0.116\n",
       "1  1881            -0.064\n",
       "2  1882            -0.069\n",
       "3  1883            -0.145\n",
       "4  1884            -0.205"
      ]
     },
     "execution_count": 10,
     "metadata": {},
     "output_type": "execute_result"
    }
   ],
   "source": [
    "df.head()"
   ]
  },
  {
   "cell_type": "markdown",
   "metadata": {},
   "source": [
    "We can isolate particular columns in pandas using a new kind of index. Instead of putting the number of an item in a list, we'll put the name of the column in the brackets. \n",
    "Note: Column names are always strings!\n",
    "\n",
    "Let's put the \"Year\" column and the \"Temp Anomaly (C)\" column into their own variables:"
   ]
  },
  {
   "cell_type": "code",
   "execution_count": 11,
   "metadata": {},
   "outputs": [],
   "source": [
    "# example: col = df[\"Name of Column\"]\n",
    "year = df[\"Year\"]\n",
    "temp = df[\"Temp Anomaly (C)\"]"
   ]
  },
  {
   "cell_type": "markdown",
   "metadata": {},
   "source": [
    "We can look at the summary of each column using the .head() method. This time, we put the variable name for the columns in front of the period.\n",
    "\n",
    "Notice that pandas also tells you the data type of the values in that column!"
   ]
  },
  {
   "cell_type": "code",
   "execution_count": 12,
   "metadata": {},
   "outputs": [
    {
     "name": "stdout",
     "output_type": "stream",
     "text": [
      "0    1880\n",
      "1    1881\n",
      "2    1882\n",
      "3    1883\n",
      "4    1884\n",
      "Name: Year, dtype: int64\n",
      "0   -0.116\n",
      "1   -0.064\n",
      "2   -0.069\n",
      "3   -0.145\n",
      "4   -0.205\n",
      "Name: Temp Anomaly (C), dtype: float64\n"
     ]
    }
   ],
   "source": [
    "print(year.head())\n",
    "print(temp.head())"
   ]
  },
  {
   "cell_type": "code",
   "execution_count": 13,
   "metadata": {},
   "outputs": [
    {
     "name": "stdout",
     "output_type": "stream",
     "text": [
      "   Year  Temp Anomaly (C)\n",
      "0  1880            -0.116\n",
      "1  1881            -0.064\n",
      "2  1882            -0.069\n",
      "3  1883            -0.145\n",
      "4  1884            -0.205\n"
     ]
    }
   ],
   "source": [
    "cold = df.loc[df[\"Temp Anomaly (C)\"] < 0]\n",
    "#print(cold)\n",
    "#cold_year = []\n",
    "#cold_year.append(cold)\n",
    "#print(cold_year)\n",
    "hot = df.loc[df[\"Temp Anomaly (C)\"] > 0]\n",
    "print(cold.head())"
   ]
  },
  {
   "cell_type": "markdown",
   "metadata": {},
   "source": [
    "Now that we've isolated the columns, we can put them into a matplotlib bar graph:"
   ]
  },
  {
   "cell_type": "code",
   "execution_count": 14,
   "metadata": {},
   "outputs": [
    {
     "data": {
      "image/png": "[encoded data removed]",
      "text/plain": [
       "<Figure size 432x288 with 1 Axes>"
      ]
     },
     "metadata": {
      "needs_background": "light"
     },
     "output_type": "display_data"
    }
   ],
   "source": [
    "# remember to use plt.bar()\n",
    "#plt.bar(year, temp, width = 1)\n",
    "#plt.title(\"Earth's Temp Anomaly\")\n",
    "#plt.xlim(1880, 2018)\n",
    "year = df[\"Year\"]\n",
    "temp = df[\"Temp Anomaly (C)\"]\n",
    "year_hot = hot[\"Year\"]\n",
    "temp_hot = hot[\"Temp Anomaly (C)\"]\n",
    "year_cold = cold[\"Year\"]\n",
    "temp_cold = cold[\"Temp Anomaly (C)\"]\n",
    "\n",
    "plt.bar(year_cold, temp_cold, color = \"blue\")\n",
    "plt.bar(year_hot, temp_hot, color = \"red\")\n",
    "plt.show()"
   ]
  },
  {
   "cell_type": "code",
   "execution_count": null,
   "metadata": {},
   "outputs": [],
   "source": []
  },
  {
   "cell_type": "code",
   "execution_count": null,
   "metadata": {},
   "outputs": [],
   "source": []
  }
 ],
 "metadata": {
  "kernelspec": {
   "display_name": "Python 3",
   "language": "python",
   "name": "python3"
  },
  "language_info": {
   "codemirror_mode": {
    "name": "ipython",
    "version": 3
   },
   "file_extension": ".py",
   "mimetype": "text/x-python",
   "name": "python",
   "nbconvert_exporter": "python",
   "pygments_lexer": "ipython3",
   "version": "3.7.3"
  }
 },
 "nbformat": 4,
 "nbformat_minor": 2
}
